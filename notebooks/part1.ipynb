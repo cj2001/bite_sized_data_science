{
 "cells": [
  {
   "cell_type": "markdown",
   "id": "initial-minute",
   "metadata": {},
   "source": [
    "# Create your (free!) Neo4j Sandbox at https://dev.neo4j.com/sandbox"
   ]
  },
  {
   "cell_type": "markdown",
   "id": "hairy-ability",
   "metadata": {},
   "source": [
    "## Be sure to install the official Neo4j driver via `pip install neo4j`"
   ]
  },
  {
   "cell_type": "code",
   "execution_count": 5,
   "id": "celtic-terry",
   "metadata": {},
   "outputs": [],
   "source": [
    "from neo4j import GraphDatabase"
   ]
  },
  {
   "cell_type": "code",
   "execution_count": 6,
   "id": "suspected-norwegian",
   "metadata": {},
   "outputs": [],
   "source": [
    "uri = \"bolt://3.237.66.105:7687\"\n",
    "pwd = \"makeup-clips-tones\"\n",
    "\n",
    "driver = GraphDatabase.driver(uri, auth=(\"neo4j\", pwd))"
   ]
  },
  {
   "cell_type": "code",
   "execution_count": 7,
   "id": "cheap-perth",
   "metadata": {},
   "outputs": [],
   "source": [
    "query = \"MATCH (n) RETURN COUNT(n)\""
   ]
  },
  {
   "cell_type": "code",
   "execution_count": 8,
   "id": "recorded-coating",
   "metadata": {},
   "outputs": [
    {
     "name": "stdout",
     "output_type": "stream",
     "text": [
      "2642\n"
     ]
    }
   ],
   "source": [
    "with driver.session() as session:\n",
    "    result = session.run(query)\n",
    "    print(result.single()[\"COUNT(n)\"])"
   ]
  },
  {
   "cell_type": "code",
   "execution_count": null,
   "id": "similar-nelson",
   "metadata": {},
   "outputs": [],
   "source": []
  }
 ],
 "metadata": {
  "kernelspec": {
   "display_name": "Python 3",
   "language": "python",
   "name": "python3"
  },
  "language_info": {
   "codemirror_mode": {
    "name": "ipython",
    "version": 3
   },
   "file_extension": ".py",
   "mimetype": "text/x-python",
   "name": "python",
   "nbconvert_exporter": "python",
   "pygments_lexer": "ipython3",
   "version": "3.8.10"
  }
 },
 "nbformat": 4,
 "nbformat_minor": 5
}
