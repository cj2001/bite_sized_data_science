{
 "cells": [
  {
   "cell_type": "code",
   "execution_count": 1,
   "id": "4d02d258-b6b6-4348-829a-aae3ac50c94d",
   "metadata": {},
   "outputs": [],
   "source": [
    "from neo4j import GraphDatabase"
   ]
  },
  {
   "cell_type": "code",
   "execution_count": 2,
   "id": "d5cfebfa-ee0f-439a-9d68-7de5329318ab",
   "metadata": {},
   "outputs": [],
   "source": [
    "class Neo4jConnection:\n",
    "    \n",
    "    def __init__(self, uri, user, pwd):\n",
    "        \n",
    "        self.__uri = uri\n",
    "        self.__user = user\n",
    "        self.__pwd = pwd\n",
    "        self.__driver = None\n",
    "        \n",
    "        try:\n",
    "            self.__driver = GraphDatabase.driver(self.__uri, auth=(self.__user, self.__pwd))\n",
    "        except Exception as e:\n",
    "            print(\"Failed to create the driver:\", e)\n",
    "        \n",
    "    def close(self):\n",
    "        \n",
    "        if self.__driver is not None:\n",
    "            self.__driver.close()\n",
    "        \n",
    "    def query(self, query, parameters=None, db=None):\n",
    "        \n",
    "        assert self.__driver is not None, \"Driver not initialized!\"\n",
    "        session = None\n",
    "        response = None\n",
    "        \n",
    "        try: \n",
    "            session = self.__driver.session(database=db) if db is not None else self.__driver.session() \n",
    "            response = list(session.run(query, parameters))\n",
    "        except Exception as e:\n",
    "            print(\"Query failed:\", e)\n",
    "        finally: \n",
    "            if session is not None:\n",
    "                session.close()\n",
    "        return response"
   ]
  },
  {
   "cell_type": "code",
   "execution_count": 3,
   "id": "f86e6697-7ca7-47a8-a994-bc937daa5eef",
   "metadata": {},
   "outputs": [
    {
     "data": {
      "text/plain": [
       "[<Record COUNT(n)=2642>]"
      ]
     },
     "execution_count": 3,
     "metadata": {},
     "output_type": "execute_result"
    }
   ],
   "source": [
    "uri = 'bolt://54.91.36.152:7687'\n",
    "pwd = 'scratches-specialty-jigs'\n",
    "\n",
    "conn = Neo4jConnection(uri=uri, user=\"neo4j\", pwd=pwd)\n",
    "\n",
    "conn.query('MATCH (n) RETURN COUNT(n)')"
   ]
  },
  {
   "cell_type": "code",
   "execution_count": 4,
   "id": "209015b3-20f0-4156-b66b-fcc95bae0f6c",
   "metadata": {},
   "outputs": [
    {
     "data": {
      "text/plain": [
       "[<Record nodeProjection={'Person': {'properties': {}, 'label': 'Person'}} relationshipProjection={'INTERACTS': {'orientation': 'UNDIRECTED', 'aggregation': 'DEFAULT', 'type': 'INTERACTS', 'properties': {}}} graphName='interactions' nodeCount=2166 relationshipCount=7814 createMillis=32>]"
      ]
     },
     "execution_count": 4,
     "metadata": {},
     "output_type": "execute_result"
    }
   ],
   "source": [
    "query = \"\"\"CALL gds.graph.create(\n",
    "           'interactions',\n",
    "           'Person',\n",
    "           {INTERACTS: \n",
    "               {\n",
    "                   orientation: 'UNDIRECTED'\n",
    "               }\n",
    "           }\n",
    "        )\n",
    "\"\"\"\n",
    "\n",
    "conn.query(query)"
   ]
  },
  {
   "cell_type": "code",
   "execution_count": 5,
   "id": "29290fac-5767-44a0-9266-bfb86952360b",
   "metadata": {},
   "outputs": [
    {
     "data": {
      "text/plain": [
       "[<Record nodeProjection={'Person': {'properties': {}, 'label': 'Person'}} relationshipProjection={'INTERACTS': {'orientation': 'UNDIRECTED', 'aggregation': 'DEFAULT', 'type': 'INTERACTS', 'properties': {'weight': {'property': 'weight', 'aggregation': 'DEFAULT', 'defaultValue': None}}}} graphName='weighted-interactions' nodeCount=2166 relationshipCount=7814 createMillis=50>]"
      ]
     },
     "execution_count": 5,
     "metadata": {},
     "output_type": "execute_result"
    }
   ],
   "source": [
    "query = \"\"\"CALL gds.graph.create(\n",
    "           'weighted-interactions',\n",
    "           'Person',\n",
    "           {INTERACTS: \n",
    "               {\n",
    "                   orientation: 'UNDIRECTED',\n",
    "                   properties: 'weight'\n",
    "               }\n",
    "           }\n",
    "        )\n",
    "\"\"\"\n",
    "\n",
    "conn.query(query)"
   ]
  },
  {
   "cell_type": "code",
   "execution_count": 6,
   "id": "fc4df0cb-18fa-488a-bcc2-db53bef1fef3",
   "metadata": {},
   "outputs": [
    {
     "data": {
      "text/plain": [
       "[<Record communityId=205 members=142>,\n",
       " <Record communityId=77 members=114>,\n",
       " <Record communityId=1202 members=104>,\n",
       " <Record communityId=233 members=86>,\n",
       " <Record communityId=15 members=85>]"
      ]
     },
     "execution_count": 6,
     "metadata": {},
     "output_type": "execute_result"
    }
   ],
   "source": [
    "query = \"\"\"CALL gds.louvain.stream(\n",
    "            'weighted-interactions',\n",
    "            {\n",
    "                relationshipWeightProperty: 'weight'\n",
    "            }\n",
    "        )\n",
    "        YIELD nodeId, communityId\n",
    "        RETURN communityId, COUNT(DISTINCT nodeId) AS members\n",
    "        ORDER BY members DESC\n",
    "        LIMIT 5\n",
    "\"\"\"\n",
    "\n",
    "conn.query(query)"
   ]
  },
  {
   "cell_type": "code",
   "execution_count": 7,
   "id": "d0552e0c-6c4a-4ab4-8f05-4ad1de607796",
   "metadata": {},
   "outputs": [
    {
     "data": {
      "text/plain": [
       "[<Record communityCount=1382 modularity=0.5680039220030543 modularities=[0.4857842129222886, 0.5660974254959941, 0.5680039220030543]>]"
      ]
     },
     "execution_count": 7,
     "metadata": {},
     "output_type": "execute_result"
    }
   ],
   "source": [
    "query = \"\"\"CALL gds.louvain.write(\n",
    "           'interactions', \n",
    "               {\n",
    "                   writeProperty: 'louv_community'\n",
    "               }\n",
    "        ) \n",
    "        YIELD communityCount, modularity, modularities\n",
    "\"\"\"\n",
    "\n",
    "conn.query(query)"
   ]
  },
  {
   "cell_type": "code",
   "execution_count": 8,
   "id": "948a0287-6e48-4180-a8cd-0e31813e7eac",
   "metadata": {},
   "outputs": [
    {
     "data": {
      "text/plain": [
       "[<Record communityCount=1384 modularity=0.5693787565392012 modularities=[0.5371223276027431, 0.5693787565392012]>]"
      ]
     },
     "execution_count": 8,
     "metadata": {},
     "output_type": "execute_result"
    }
   ],
   "source": [
    "query = \"\"\"CALL gds.louvain.write(\n",
    "           'weighted-interactions', \n",
    "               {\n",
    "                   writeProperty: 'louv_community_weighted',\n",
    "                   relationshipWeightProperty: 'weight'\n",
    "               }\n",
    "        ) \n",
    "        YIELD communityCount, modularity, modularities\n",
    "\"\"\"\n",
    "\n",
    "conn.query(query)"
   ]
  },
  {
   "cell_type": "code",
   "execution_count": null,
   "id": "ae6a2ad7-bc74-4c69-a7bb-0eef88e7f7fa",
   "metadata": {},
   "outputs": [],
   "source": []
  }
 ],
 "metadata": {
  "kernelspec": {
   "display_name": "Python 3 (ipykernel)",
   "language": "python",
   "name": "python3"
  },
  "language_info": {
   "codemirror_mode": {
    "name": "ipython",
    "version": 3
   },
   "file_extension": ".py",
   "mimetype": "text/x-python",
   "name": "python",
   "nbconvert_exporter": "python",
   "pygments_lexer": "ipython3",
   "version": "3.9.7"
  }
 },
 "nbformat": 4,
 "nbformat_minor": 5
}
