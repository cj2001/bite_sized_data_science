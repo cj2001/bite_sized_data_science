{
 "cells": [
  {
   "cell_type": "markdown",
   "id": "dutch-swift",
   "metadata": {},
   "source": [
    "# Part 1 (Connect from Jupyter to a Neo4j Sandbox): https://dev.neo4j.com/bites_part1\n",
    "# Repo: https://dev.neo4j.com/bites_repo\n",
    "# To get started, !pip install py2neo"
   ]
  },
  {
   "cell_type": "code",
   "execution_count": 1,
   "id": "magnetic-wales",
   "metadata": {},
   "outputs": [],
   "source": [
    "import pandas as pd\n",
    "import numpy as np\n",
    "from py2neo import Graph, Node, Relationship"
   ]
  },
  {
   "cell_type": "code",
   "execution_count": 2,
   "id": "recorded-disease",
   "metadata": {},
   "outputs": [],
   "source": [
    "url = \"bolt://44.195.30.251:7687\"\n",
    "pwd = \"rag-memorandum-humps\"\n",
    "\n",
    "graph = Graph(url, auth=('neo4j', pwd))"
   ]
  },
  {
   "cell_type": "code",
   "execution_count": 3,
   "id": "substantial-ribbon",
   "metadata": {},
   "outputs": [
    {
     "data": {
      "text/html": [
       "<table><tr><th>COUNT(n)</th></tr><tr><td style=\"text-align:right\">2642</td></tr></table>"
      ],
      "text/plain": [
       " COUNT(n) \n",
       "----------\n",
       "     2642 "
      ]
     },
     "execution_count": 3,
     "metadata": {},
     "output_type": "execute_result"
    }
   ],
   "source": [
    "query = \"MATCH (n) RETURN COUNT(n)\"\n",
    "result = graph.query(query)\n",
    "result"
   ]
  },
  {
   "cell_type": "code",
   "execution_count": 4,
   "id": "surface-owner",
   "metadata": {},
   "outputs": [
    {
     "data": {
      "text/plain": [
       "py2neo.cypher.Cursor"
      ]
     },
     "execution_count": 4,
     "metadata": {},
     "output_type": "execute_result"
    }
   ],
   "source": [
    "type(result)"
   ]
  },
  {
   "cell_type": "code",
   "execution_count": 5,
   "id": "clinical-window",
   "metadata": {},
   "outputs": [
    {
     "name": "stdout",
     "output_type": "stream",
     "text": [
      " name         \n",
      "--------------\n",
      " Eddard Stark \n",
      "\n",
      "[{'name': 'Eddard Stark'}]\n"
     ]
    }
   ],
   "source": [
    "query = \"MATCH (p:Person {name: 'Eddard Stark'}) RETURN p.name AS name\"\n",
    "result = graph.query(query)\n",
    "print(result)\n",
    "print(result.data())"
   ]
  },
  {
   "cell_type": "code",
   "execution_count": 6,
   "id": "instant-certification",
   "metadata": {},
   "outputs": [
    {
     "data": {
      "text/html": [
       "(No data)"
      ],
      "text/plain": [
       "(No data)"
      ]
     },
     "execution_count": 6,
     "metadata": {},
     "output_type": "execute_result"
    }
   ],
   "source": [
    "result"
   ]
  },
  {
   "cell_type": "code",
   "execution_count": 7,
   "id": "rural-civilian",
   "metadata": {},
   "outputs": [
    {
     "name": "stdout",
     "output_type": "stream",
     "text": [
      "Marq Piper\n",
      "Tywin Lannister\n",
      "Loras Tyrell\n",
      "Renly Baratheon\n",
      "Robert Baratheon\n",
      "Sandor Clegane\n",
      "Petyr Baelish\n",
      "Mace Tyrell\n",
      "Rodrik Cassel\n",
      "Sansa Stark\n"
     ]
    }
   ],
   "source": [
    "query = \"MATCH (p:Person {name:'Eddard Stark'})-[:INTERACTS_1*1..2]->(p2) RETURN p2.name AS name LIMIT 10\"\n",
    "result = graph.query(query).data()\n",
    "\n",
    "for record in result:\n",
    "    print(record['name'])"
   ]
  },
  {
   "cell_type": "code",
   "execution_count": 8,
   "id": "configured-conversion",
   "metadata": {},
   "outputs": [
    {
     "data": {
      "text/plain": [
       "list"
      ]
     },
     "execution_count": 8,
     "metadata": {},
     "output_type": "execute_result"
    }
   ],
   "source": [
    "type(result)"
   ]
  },
  {
   "cell_type": "code",
   "execution_count": 9,
   "id": "incorrect-facility",
   "metadata": {},
   "outputs": [
    {
     "data": {
      "text/html": [
       "<div>\n",
       "<style scoped>\n",
       "    .dataframe tbody tr th:only-of-type {\n",
       "        vertical-align: middle;\n",
       "    }\n",
       "\n",
       "    .dataframe tbody tr th {\n",
       "        vertical-align: top;\n",
       "    }\n",
       "\n",
       "    .dataframe thead th {\n",
       "        text-align: right;\n",
       "    }\n",
       "</style>\n",
       "<table border=\"1\" class=\"dataframe\">\n",
       "  <thead>\n",
       "    <tr style=\"text-align: right;\">\n",
       "      <th></th>\n",
       "      <th>attacker</th>\n",
       "      <th>battle</th>\n",
       "      <th>defender</th>\n",
       "    </tr>\n",
       "  </thead>\n",
       "  <tbody>\n",
       "    <tr>\n",
       "      <th>0</th>\n",
       "      <td>Jaime Lannister</td>\n",
       "      <td>Battle of the Golden Tooth</td>\n",
       "      <td>Vance</td>\n",
       "    </tr>\n",
       "    <tr>\n",
       "      <th>1</th>\n",
       "      <td>Jaime Lannister</td>\n",
       "      <td>Battle of the Golden Tooth</td>\n",
       "      <td>Clement Piper</td>\n",
       "    </tr>\n",
       "    <tr>\n",
       "      <th>2</th>\n",
       "      <td>Gregor Clegane</td>\n",
       "      <td>Battle at the Mummer's Ford</td>\n",
       "      <td>Beric Dondarrion</td>\n",
       "    </tr>\n",
       "    <tr>\n",
       "      <th>3</th>\n",
       "      <td>Andros Brax</td>\n",
       "      <td>Battle of Riverrun</td>\n",
       "      <td>Tytos Blackwood</td>\n",
       "    </tr>\n",
       "    <tr>\n",
       "      <th>4</th>\n",
       "      <td>Jaime Lannister</td>\n",
       "      <td>Battle of Riverrun</td>\n",
       "      <td>Tytos Blackwood</td>\n",
       "    </tr>\n",
       "    <tr>\n",
       "      <th>5</th>\n",
       "      <td>Andros Brax</td>\n",
       "      <td>Battle of Riverrun</td>\n",
       "      <td>Edmure Tully</td>\n",
       "    </tr>\n",
       "    <tr>\n",
       "      <th>6</th>\n",
       "      <td>Jaime Lannister</td>\n",
       "      <td>Battle of Riverrun</td>\n",
       "      <td>Edmure Tully</td>\n",
       "    </tr>\n",
       "    <tr>\n",
       "      <th>7</th>\n",
       "      <td>Harrion Karstark</td>\n",
       "      <td>Battle of the Green Fork</td>\n",
       "      <td>Tywin Lannister</td>\n",
       "    </tr>\n",
       "    <tr>\n",
       "      <th>8</th>\n",
       "      <td>Medger Cerwyn</td>\n",
       "      <td>Battle of the Green Fork</td>\n",
       "      <td>Tywin Lannister</td>\n",
       "    </tr>\n",
       "    <tr>\n",
       "      <th>9</th>\n",
       "      <td>Roose Bolton</td>\n",
       "      <td>Battle of the Green Fork</td>\n",
       "      <td>Tywin Lannister</td>\n",
       "    </tr>\n",
       "  </tbody>\n",
       "</table>\n",
       "</div>"
      ],
      "text/plain": [
       "           attacker                       battle          defender\n",
       "0   Jaime Lannister   Battle of the Golden Tooth             Vance\n",
       "1   Jaime Lannister   Battle of the Golden Tooth     Clement Piper\n",
       "2    Gregor Clegane  Battle at the Mummer's Ford  Beric Dondarrion\n",
       "3       Andros Brax           Battle of Riverrun   Tytos Blackwood\n",
       "4   Jaime Lannister           Battle of Riverrun   Tytos Blackwood\n",
       "5       Andros Brax           Battle of Riverrun      Edmure Tully\n",
       "6   Jaime Lannister           Battle of Riverrun      Edmure Tully\n",
       "7  Harrion Karstark     Battle of the Green Fork   Tywin Lannister\n",
       "8     Medger Cerwyn     Battle of the Green Fork   Tywin Lannister\n",
       "9      Roose Bolton     Battle of the Green Fork   Tywin Lannister"
      ]
     },
     "execution_count": 9,
     "metadata": {},
     "output_type": "execute_result"
    }
   ],
   "source": [
    "query = \"\"\"\n",
    "    MATCH (p1:Person)-[:DEFENDER_COMMANDER]->(b:Battle)<-[:ATTACKER_COMMANDER]-(p2:Person)\n",
    "    RETURN p2.name AS attacker, b.name AS battle, p1.name AS defender LIMIT 10\n",
    "\"\"\"\n",
    "\n",
    "result_df = graph.query(query).to_data_frame()\n",
    "result_df.head(10)"
   ]
  },
  {
   "cell_type": "code",
   "execution_count": 10,
   "id": "appropriate-relation",
   "metadata": {},
   "outputs": [
    {
     "data": {
      "text/plain": [
       "array([['Jaime Lannister', 'Battle of the Golden Tooth', 'Vance'],\n",
       "       ['Jaime Lannister', 'Battle of the Golden Tooth', 'Clement Piper'],\n",
       "       ['Gregor Clegane', \"Battle at the Mummer's Ford\",\n",
       "        'Beric Dondarrion'],\n",
       "       ['Andros Brax', 'Battle of Riverrun', 'Tytos Blackwood'],\n",
       "       ['Jaime Lannister', 'Battle of Riverrun', 'Tytos Blackwood'],\n",
       "       ['Andros Brax', 'Battle of Riverrun', 'Edmure Tully'],\n",
       "       ['Jaime Lannister', 'Battle of Riverrun', 'Edmure Tully'],\n",
       "       ['Harrion Karstark', 'Battle of the Green Fork',\n",
       "        'Tywin Lannister'],\n",
       "       ['Medger Cerwyn', 'Battle of the Green Fork', 'Tywin Lannister'],\n",
       "       ['Roose Bolton', 'Battle of the Green Fork', 'Tywin Lannister']],\n",
       "      dtype='<U27')"
      ]
     },
     "execution_count": 10,
     "metadata": {},
     "output_type": "execute_result"
    }
   ],
   "source": [
    "query = \"\"\"\n",
    "    MATCH (p1:Person)-[:DEFENDER_COMMANDER]->(b:Battle)<-[:ATTACKER_COMMANDER]-(p2:Person)\n",
    "    RETURN p2.name AS attacker, b.name AS battle, p1.name AS defender LIMIT 10\n",
    "\"\"\"\n",
    "\n",
    "result_arr = graph.query(query).to_ndarray()\n",
    "result_arr"
   ]
  },
  {
   "cell_type": "code",
   "execution_count": 11,
   "id": "preceding-radar",
   "metadata": {},
   "outputs": [],
   "source": [
    "a = Node(\"Person\", name=\"Clair\")\n",
    "b = Node(\"Person\", name=\"Emil\")\n",
    "ab = Relationship(a, \"KNOWS\", b)\n",
    "graph.create(ab)"
   ]
  },
  {
   "cell_type": "code",
   "execution_count": 14,
   "id": "sudden-patrick",
   "metadata": {},
   "outputs": [
    {
     "data": {
      "text/plain": [
       "True"
      ]
     },
     "execution_count": 14,
     "metadata": {},
     "output_type": "execute_result"
    }
   ],
   "source": [
    "graph.exists(ab)"
   ]
  },
  {
   "cell_type": "code",
   "execution_count": null,
   "id": "selected-basic",
   "metadata": {},
   "outputs": [],
   "source": []
  }
 ],
 "metadata": {
  "kernelspec": {
   "display_name": "Python 3",
   "language": "python",
   "name": "python3"
  },
  "language_info": {
   "codemirror_mode": {
    "name": "ipython",
    "version": 3
   },
   "file_extension": ".py",
   "mimetype": "text/x-python",
   "name": "python",
   "nbconvert_exporter": "python",
   "pygments_lexer": "ipython3",
   "version": "3.8.10"
  }
 },
 "nbformat": 4,
 "nbformat_minor": 5
}
