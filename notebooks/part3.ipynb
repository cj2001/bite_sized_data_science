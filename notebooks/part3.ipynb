{
 "cells": [
  {
   "cell_type": "code",
   "execution_count": 2,
   "id": "polished-chase",
   "metadata": {},
   "outputs": [],
   "source": [
    "from neo4j import GraphDatabase"
   ]
  },
  {
   "cell_type": "code",
   "execution_count": 3,
   "id": "brutal-conditioning",
   "metadata": {},
   "outputs": [],
   "source": [
    "class Neo4jConnection:\n",
    "    \n",
    "    def __init__(self, uri, user, pwd):\n",
    "        \n",
    "        self.__uri = uri\n",
    "        self.__user = user\n",
    "        self.__pwd = pwd\n",
    "        self.__driver = None\n",
    "        \n",
    "        try:\n",
    "            self.__driver = GraphDatabase.driver(self.__uri, auth=(self.__user, self.__pwd))\n",
    "        except Exception as e:\n",
    "            print(\"Failed to create the driver:\", e)\n",
    "        \n",
    "    def close(self):\n",
    "        \n",
    "        if self.__driver is not None:\n",
    "            self.__driver.close()\n",
    "        \n",
    "    def query(self, query, parameters=None, db=None):\n",
    "        \n",
    "        assert self.__driver is not None, \"Driver not initialized!\"\n",
    "        session = None\n",
    "        response = None\n",
    "        \n",
    "        try: \n",
    "            session = self.__driver.session(database=db) if db is not None else self.__driver.session() \n",
    "            response = list(session.run(query, parameters))\n",
    "        except Exception as e:\n",
    "            print(\"Query failed:\", e)\n",
    "        finally: \n",
    "            if session is not None:\n",
    "                session.close()\n",
    "        return response"
   ]
  },
  {
   "cell_type": "code",
   "execution_count": 4,
   "id": "prospective-replica",
   "metadata": {},
   "outputs": [],
   "source": [
    "conn = Neo4jConnection(uri='bolt://18.208.156.179:7687', user='neo4j', pwd='admiral-erasers-dopes')"
   ]
  },
  {
   "cell_type": "code",
   "execution_count": 5,
   "id": "emerging-violin",
   "metadata": {},
   "outputs": [
    {
     "name": "stdout",
     "output_type": "stream",
     "text": [
      "[<Record ct=2642>]\n"
     ]
    }
   ],
   "source": [
    "result = conn.query('MATCH (n) RETURN COUNT(n) AS ct')\n",
    "print(result)"
   ]
  },
  {
   "cell_type": "code",
   "execution_count": 6,
   "id": "chicken-strain",
   "metadata": {},
   "outputs": [
    {
     "name": "stdout",
     "output_type": "stream",
     "text": [
      "2642\n"
     ]
    }
   ],
   "source": [
    "print(result[0]['ct'])"
   ]
  },
  {
   "cell_type": "code",
   "execution_count": 7,
   "id": "individual-iraqi",
   "metadata": {},
   "outputs": [],
   "source": [
    "params = {'name': 'Eddard Stark',\n",
    "          'contains': 'Stark'\n",
    "         }\n",
    "\n",
    "query = \"\"\"MATCH (p:Person {name: $name})-[:INTERACTS_1]-(p2:Person)\n",
    "           WHERE p2.name CONTAINS $contains\n",
    "           RETURN DISTINCT(p2.name) AS name\n",
    "\"\"\"\n",
    "\n",
    "result = conn.query(query, parameters=params)"
   ]
  },
  {
   "cell_type": "code",
   "execution_count": 8,
   "id": "light-inspector",
   "metadata": {},
   "outputs": [
    {
     "name": "stdout",
     "output_type": "stream",
     "text": [
      "Bran Stark\n",
      "Brandon Stark\n",
      "Catelyn Stark\n",
      "Arya Stark\n",
      "Lyanna Stark\n",
      "Sansa Stark\n",
      "Rickon Stark\n",
      "Robb Stark\n"
     ]
    }
   ],
   "source": [
    "for record in result:\n",
    "    print(record['name'])"
   ]
  },
  {
   "cell_type": "code",
   "execution_count": null,
   "id": "union-prime",
   "metadata": {},
   "outputs": [],
   "source": []
  }
 ],
 "metadata": {
  "kernelspec": {
   "display_name": "Python 3",
   "language": "python",
   "name": "python3"
  },
  "language_info": {
   "codemirror_mode": {
    "name": "ipython",
    "version": 3
   },
   "file_extension": ".py",
   "mimetype": "text/x-python",
   "name": "python",
   "nbconvert_exporter": "python",
   "pygments_lexer": "ipython3",
   "version": "3.8.10"
  }
 },
 "nbformat": 4,
 "nbformat_minor": 5
}
