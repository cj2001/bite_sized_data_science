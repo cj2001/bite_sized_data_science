{
 "cells": [
  {
   "cell_type": "code",
   "execution_count": 1,
   "id": "bd2c77f7-d1f8-414e-bcbb-1246e3728891",
   "metadata": {},
   "outputs": [],
   "source": [
    "import pandas as pd\n",
    "\n",
    "from graphdatascience import GraphDataScience"
   ]
  },
  {
   "cell_type": "code",
   "execution_count": 2,
   "id": "ee65c277-0d0d-4c0e-a36d-1faee98056f0",
   "metadata": {},
   "outputs": [],
   "source": [
    "url = 'bolt://54.84.249.51:7687'\n",
    "pwd = 'worksheet-administrator-investigations'"
   ]
  },
  {
   "cell_type": "code",
   "execution_count": 3,
   "id": "ec94623f-03a9-4534-bfa2-448150c31e52",
   "metadata": {},
   "outputs": [],
   "source": [
    "gds = GraphDataScience(url, auth=(\"neo4j\", pwd))"
   ]
  },
  {
   "cell_type": "code",
   "execution_count": 4,
   "id": "0056ea88-d71b-479a-9f3b-75d6efe99b01",
   "metadata": {},
   "outputs": [
    {
     "data": {
      "text/html": [
       "<div>\n",
       "<style scoped>\n",
       "    .dataframe tbody tr th:only-of-type {\n",
       "        vertical-align: middle;\n",
       "    }\n",
       "\n",
       "    .dataframe tbody tr th {\n",
       "        vertical-align: top;\n",
       "    }\n",
       "\n",
       "    .dataframe thead th {\n",
       "        text-align: right;\n",
       "    }\n",
       "</style>\n",
       "<table border=\"1\" class=\"dataframe\">\n",
       "  <thead>\n",
       "    <tr style=\"text-align: right;\">\n",
       "      <th></th>\n",
       "      <th>count</th>\n",
       "    </tr>\n",
       "  </thead>\n",
       "  <tbody>\n",
       "    <tr>\n",
       "      <th>0</th>\n",
       "      <td>8627</td>\n",
       "    </tr>\n",
       "  </tbody>\n",
       "</table>\n",
       "</div>"
      ],
      "text/plain": [
       "   count\n",
       "0   8627"
      ]
     },
     "execution_count": 4,
     "metadata": {},
     "output_type": "execute_result"
    }
   ],
   "source": [
    "query = 'MATCH (n) RETURN COUNT(n) AS count'\n",
    "\n",
    "gds.run_cypher(query)"
   ]
  },
  {
   "cell_type": "code",
   "execution_count": 5,
   "id": "cfeaac8e-b271-4fe5-a0de-34006b66cccd",
   "metadata": {
    "tags": []
   },
   "outputs": [
    {
     "data": {
      "text/html": [
       "<div>\n",
       "<style scoped>\n",
       "    .dataframe tbody tr th:only-of-type {\n",
       "        vertical-align: middle;\n",
       "    }\n",
       "\n",
       "    .dataframe tbody tr th {\n",
       "        vertical-align: top;\n",
       "    }\n",
       "\n",
       "    .dataframe thead th {\n",
       "        text-align: right;\n",
       "    }\n",
       "</style>\n",
       "<table border=\"1\" class=\"dataframe\">\n",
       "  <thead>\n",
       "    <tr style=\"text-align: right;\">\n",
       "      <th></th>\n",
       "      <th>graphName</th>\n",
       "      <th>nodeProjection</th>\n",
       "      <th>nodeCount</th>\n",
       "      <th>relationshipProjection</th>\n",
       "      <th>relationshipCount</th>\n",
       "    </tr>\n",
       "  </thead>\n",
       "  <tbody>\n",
       "    <tr>\n",
       "      <th>0</th>\n",
       "      <td>routes</td>\n",
       "      <td>{'Airport': {'label': 'Airport', 'properties':...</td>\n",
       "      <td>3503</td>\n",
       "      <td>{'HAS_ROUTE': {'orientation': 'NATURAL', 'aggr...</td>\n",
       "      <td>46389</td>\n",
       "    </tr>\n",
       "  </tbody>\n",
       "</table>\n",
       "</div>"
      ],
      "text/plain": [
       "  graphName                                     nodeProjection  nodeCount  \\\n",
       "0    routes  {'Airport': {'label': 'Airport', 'properties':...       3503   \n",
       "\n",
       "                              relationshipProjection  relationshipCount  \n",
       "0  {'HAS_ROUTE': {'orientation': 'NATURAL', 'aggr...              46389  "
      ]
     },
     "execution_count": 5,
     "metadata": {},
     "output_type": "execute_result"
    }
   ],
   "source": [
    "query = \"\"\"CALL gds.graph.project(\n",
    "                'routes',\n",
    "                'Airport',\n",
    "                'HAS_ROUTE'\n",
    "            )\n",
    "            YIELD\n",
    "                graphName, nodeProjection, nodeCount, relationshipProjection, relationshipCount\n",
    "\"\"\"\n",
    "\n",
    "gds.run_cypher(query)"
   ]
  },
  {
   "cell_type": "code",
   "execution_count": 6,
   "id": "e2117eb3-4f23-4de6-914a-a851a77be75b",
   "metadata": {
    "tags": []
   },
   "outputs": [],
   "source": [
    "G, res = gds.graph.project(\n",
    "    'airports',                 \n",
    "    'Airport',   \n",
    "    \"HAS_ROUTE\"                            \n",
    ")"
   ]
  },
  {
   "cell_type": "code",
   "execution_count": 7,
   "id": "41ccbda3-3d94-44f8-bdb8-c9b49a05ee3f",
   "metadata": {
    "tags": []
   },
   "outputs": [
    {
     "data": {
      "text/plain": [
       "pandas.core.series.Series"
      ]
     },
     "execution_count": 7,
     "metadata": {},
     "output_type": "execute_result"
    }
   ],
   "source": [
    "type(res)"
   ]
  },
  {
   "cell_type": "code",
   "execution_count": 8,
   "id": "9c275fe8-6fa1-42e2-bbf1-36771ac25ef9",
   "metadata": {
    "tags": []
   },
   "outputs": [
    {
     "name": "stdout",
     "output_type": "stream",
     "text": [
      "nodeProjection            {'Airport': {'label': 'Airport', 'properties':...\n",
      "relationshipProjection    {'HAS_ROUTE': {'orientation': 'NATURAL', 'aggr...\n",
      "graphName                                                          airports\n",
      "nodeCount                                                              3503\n",
      "relationshipCount                                                     46389\n",
      "projectMillis                                                           106\n",
      "Name: 0, dtype: object\n"
     ]
    }
   ],
   "source": [
    "print(res)"
   ]
  },
  {
   "cell_type": "code",
   "execution_count": 9,
   "id": "a0966b41-2a01-4740-a8d8-931e1ce785b8",
   "metadata": {
    "tags": []
   },
   "outputs": [
    {
     "data": {
      "text/plain": [
       "(3503, 46389)"
      ]
     },
     "execution_count": 9,
     "metadata": {},
     "output_type": "execute_result"
    }
   ],
   "source": [
    "G.node_count(), G.relationship_count()"
   ]
  },
  {
   "cell_type": "code",
   "execution_count": 10,
   "id": "ae22540c-9cba-48ce-b782-6f3217ca19b9",
   "metadata": {
    "tags": []
   },
   "outputs": [
    {
     "data": {
      "text/plain": [
       "p99     175.000000\n",
       "min       0.000000\n",
       "max     307.000000\n",
       "mean     13.242649\n",
       "p90      38.000000\n",
       "p50       2.000000\n",
       "p999    270.000000\n",
       "p95      71.000000\n",
       "p75       9.000000\n",
       "dtype: float64"
      ]
     },
     "execution_count": 10,
     "metadata": {},
     "output_type": "execute_result"
    }
   ],
   "source": [
    "G.degree_distribution()"
   ]
  },
  {
   "cell_type": "code",
   "execution_count": 11,
   "id": "d139ecc1-f2b7-4863-8589-f8537e022962",
   "metadata": {
    "tags": []
   },
   "outputs": [
    {
     "data": {
      "text/html": [
       "<div>\n",
       "<style scoped>\n",
       "    .dataframe tbody tr th:only-of-type {\n",
       "        vertical-align: middle;\n",
       "    }\n",
       "\n",
       "    .dataframe tbody tr th {\n",
       "        vertical-align: top;\n",
       "    }\n",
       "\n",
       "    .dataframe thead th {\n",
       "        text-align: right;\n",
       "    }\n",
       "</style>\n",
       "<table border=\"1\" class=\"dataframe\">\n",
       "  <thead>\n",
       "    <tr style=\"text-align: right;\">\n",
       "      <th></th>\n",
       "      <th>nodeId</th>\n",
       "      <th>score</th>\n",
       "    </tr>\n",
       "  </thead>\n",
       "  <tbody>\n",
       "    <tr>\n",
       "      <th>0</th>\n",
       "      <td>8627</td>\n",
       "      <td>10.389948</td>\n",
       "    </tr>\n",
       "    <tr>\n",
       "      <th>1</th>\n",
       "      <td>8628</td>\n",
       "      <td>2.651157</td>\n",
       "    </tr>\n",
       "    <tr>\n",
       "      <th>2</th>\n",
       "      <td>8629</td>\n",
       "      <td>3.397036</td>\n",
       "    </tr>\n",
       "    <tr>\n",
       "      <th>3</th>\n",
       "      <td>8630</td>\n",
       "      <td>2.913093</td>\n",
       "    </tr>\n",
       "    <tr>\n",
       "      <th>4</th>\n",
       "      <td>8631</td>\n",
       "      <td>5.587850</td>\n",
       "    </tr>\n",
       "    <tr>\n",
       "      <th>...</th>\n",
       "      <td>...</td>\n",
       "      <td>...</td>\n",
       "    </tr>\n",
       "    <tr>\n",
       "      <th>3498</th>\n",
       "      <td>12125</td>\n",
       "      <td>0.174984</td>\n",
       "    </tr>\n",
       "    <tr>\n",
       "      <th>3499</th>\n",
       "      <td>12126</td>\n",
       "      <td>0.174984</td>\n",
       "    </tr>\n",
       "    <tr>\n",
       "      <th>3500</th>\n",
       "      <td>12127</td>\n",
       "      <td>0.174984</td>\n",
       "    </tr>\n",
       "    <tr>\n",
       "      <th>3501</th>\n",
       "      <td>12128</td>\n",
       "      <td>0.174984</td>\n",
       "    </tr>\n",
       "    <tr>\n",
       "      <th>3502</th>\n",
       "      <td>12129</td>\n",
       "      <td>4.808279</td>\n",
       "    </tr>\n",
       "  </tbody>\n",
       "</table>\n",
       "<p>3503 rows × 2 columns</p>\n",
       "</div>"
      ],
      "text/plain": [
       "      nodeId      score\n",
       "0       8627  10.389948\n",
       "1       8628   2.651157\n",
       "2       8629   3.397036\n",
       "3       8630   2.913093\n",
       "4       8631   5.587850\n",
       "...      ...        ...\n",
       "3498   12125   0.174984\n",
       "3499   12126   0.174984\n",
       "3500   12127   0.174984\n",
       "3501   12128   0.174984\n",
       "3502   12129   4.808279\n",
       "\n",
       "[3503 rows x 2 columns]"
      ]
     },
     "execution_count": 11,
     "metadata": {},
     "output_type": "execute_result"
    }
   ],
   "source": [
    "res = gds.pageRank.stream(G)\n",
    "res"
   ]
  },
  {
   "cell_type": "code",
   "execution_count": null,
   "id": "7258392d-f029-4e2a-859e-0610c1128e23",
   "metadata": {},
   "outputs": [],
   "source": []
  }
 ],
 "metadata": {
  "kernelspec": {
   "display_name": "Python 3 (ipykernel)",
   "language": "python",
   "name": "python3"
  },
  "language_info": {
   "codemirror_mode": {
    "name": "ipython",
    "version": 3
   },
   "file_extension": ".py",
   "mimetype": "text/x-python",
   "name": "python",
   "nbconvert_exporter": "python",
   "pygments_lexer": "ipython3",
   "version": "3.9.7"
  }
 },
 "nbformat": 4,
 "nbformat_minor": 5
}
