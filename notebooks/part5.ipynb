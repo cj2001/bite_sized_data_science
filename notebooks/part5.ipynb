{
 "cells": [
  {
   "cell_type": "code",
   "execution_count": 1,
   "id": "58dc10d0-76c7-4e08-86de-7ca5fd4f63ab",
   "metadata": {},
   "outputs": [],
   "source": [
    "from neo4j import GraphDatabase\n",
    "import pandas as pd\n",
    "import time"
   ]
  },
  {
   "cell_type": "code",
   "execution_count": 2,
   "id": "ff055472-54b0-4959-9e43-7ff10311659c",
   "metadata": {},
   "outputs": [],
   "source": [
    "class Neo4jConnection:\n",
    "    \n",
    "    def __init__(self, uri, user, pwd):\n",
    "        \n",
    "        self.__uri = uri\n",
    "        self.__user = user\n",
    "        self.__pwd = pwd\n",
    "        self.__driver = None\n",
    "        \n",
    "        try:\n",
    "            self.__driver = GraphDatabase.driver(self.__uri, auth=(self.__user, self.__pwd))\n",
    "        except Exception as e:\n",
    "            print(\"Failed to create the driver:\", e)\n",
    "        \n",
    "    def close(self):\n",
    "        \n",
    "        if self.__driver is not None:\n",
    "            self.__driver.close()\n",
    "        \n",
    "    def query(self, query, parameters=None, db=None):\n",
    "        \n",
    "        assert self.__driver is not None, \"Driver not initialized!\"\n",
    "        session = None\n",
    "        response = None\n",
    "        \n",
    "        try: \n",
    "            session = self.__driver.session(database=db) if db is not None else self.__driver.session() \n",
    "            response = list(session.run(query, parameters))\n",
    "        except Exception as e:\n",
    "            print(\"Query failed:\", e)\n",
    "        finally: \n",
    "            if session is not None:\n",
    "                session.close()\n",
    "        return response"
   ]
  },
  {
   "cell_type": "code",
   "execution_count": 3,
   "id": "18c8df09-a53a-4b14-8e1d-2965592acc89",
   "metadata": {},
   "outputs": [],
   "source": [
    "uri = 'bolt://184.73.147.145:7687'\n",
    "user = 'neo4j'\n",
    "pwd = 'angles-alternatives-information'\n",
    "\n",
    "conn = Neo4jConnection(uri=uri, user=user, pwd=pwd)"
   ]
  },
  {
   "cell_type": "code",
   "execution_count": 4,
   "id": "d10fd791-25a8-498b-9b3e-792495071b70",
   "metadata": {},
   "outputs": [
    {
     "data": {
      "text/html": [
       "<div>\n",
       "<style scoped>\n",
       "    .dataframe tbody tr th:only-of-type {\n",
       "        vertical-align: middle;\n",
       "    }\n",
       "\n",
       "    .dataframe tbody tr th {\n",
       "        vertical-align: top;\n",
       "    }\n",
       "\n",
       "    .dataframe thead th {\n",
       "        text-align: right;\n",
       "    }\n",
       "</style>\n",
       "<table border=\"1\" class=\"dataframe\">\n",
       "  <thead>\n",
       "    <tr style=\"text-align: right;\">\n",
       "      <th></th>\n",
       "      <th>id</th>\n",
       "      <th>name</th>\n",
       "    </tr>\n",
       "  </thead>\n",
       "  <tbody>\n",
       "    <tr>\n",
       "      <th>0</th>\n",
       "      <td>0</td>\n",
       "      <td>Alice</td>\n",
       "    </tr>\n",
       "    <tr>\n",
       "      <th>1</th>\n",
       "      <td>1</td>\n",
       "      <td>Brian</td>\n",
       "    </tr>\n",
       "    <tr>\n",
       "      <th>2</th>\n",
       "      <td>2</td>\n",
       "      <td>Carla</td>\n",
       "    </tr>\n",
       "    <tr>\n",
       "      <th>3</th>\n",
       "      <td>3</td>\n",
       "      <td>David</td>\n",
       "    </tr>\n",
       "    <tr>\n",
       "      <th>4</th>\n",
       "      <td>4</td>\n",
       "      <td>Ed</td>\n",
       "    </tr>\n",
       "  </tbody>\n",
       "</table>\n",
       "</div>"
      ],
      "text/plain": [
       "   id   name\n",
       "0   0  Alice\n",
       "1   1  Brian\n",
       "2   2  Carla\n",
       "3   3  David\n",
       "4   4     Ed"
      ]
     },
     "execution_count": 4,
     "metadata": {},
     "output_type": "execute_result"
    }
   ],
   "source": [
    "user_data = {\n",
    "    'id': [0, 1, 2, 3, 4],\n",
    "    'name': ['Alice', 'Brian', 'Carla', 'David', 'Ed']\n",
    "}\n",
    "\n",
    "user_df = pd.DataFrame(user_data)\n",
    "user_df.head()"
   ]
  },
  {
   "cell_type": "code",
   "execution_count": 5,
   "id": "db213bbf-0cf6-46d7-8232-8d84af1bf772",
   "metadata": {},
   "outputs": [
    {
     "data": {
      "text/html": [
       "<div>\n",
       "<style scoped>\n",
       "    .dataframe tbody tr th:only-of-type {\n",
       "        vertical-align: middle;\n",
       "    }\n",
       "\n",
       "    .dataframe tbody tr th {\n",
       "        vertical-align: top;\n",
       "    }\n",
       "\n",
       "    .dataframe thead th {\n",
       "        text-align: right;\n",
       "    }\n",
       "</style>\n",
       "<table border=\"1\" class=\"dataframe\">\n",
       "  <thead>\n",
       "    <tr style=\"text-align: right;\">\n",
       "      <th></th>\n",
       "      <th>id</th>\n",
       "      <th>text</th>\n",
       "    </tr>\n",
       "  </thead>\n",
       "  <tbody>\n",
       "    <tr>\n",
       "      <th>0</th>\n",
       "      <td>100</td>\n",
       "      <td>Hi</td>\n",
       "    </tr>\n",
       "    <tr>\n",
       "      <th>1</th>\n",
       "      <td>200</td>\n",
       "      <td>Hello</td>\n",
       "    </tr>\n",
       "    <tr>\n",
       "      <th>2</th>\n",
       "      <td>300</td>\n",
       "      <td>Yo</td>\n",
       "    </tr>\n",
       "    <tr>\n",
       "      <th>3</th>\n",
       "      <td>400</td>\n",
       "      <td>Sup</td>\n",
       "    </tr>\n",
       "    <tr>\n",
       "      <th>4</th>\n",
       "      <td>500</td>\n",
       "      <td>Bye</td>\n",
       "    </tr>\n",
       "    <tr>\n",
       "      <th>5</th>\n",
       "      <td>600</td>\n",
       "      <td>Later</td>\n",
       "    </tr>\n",
       "    <tr>\n",
       "      <th>6</th>\n",
       "      <td>700</td>\n",
       "      <td>Ciao</td>\n",
       "    </tr>\n",
       "    <tr>\n",
       "      <th>7</th>\n",
       "      <td>800</td>\n",
       "      <td>Peace</td>\n",
       "    </tr>\n",
       "    <tr>\n",
       "      <th>8</th>\n",
       "      <td>900</td>\n",
       "      <td>See ya</td>\n",
       "    </tr>\n",
       "    <tr>\n",
       "      <th>9</th>\n",
       "      <td>1000</td>\n",
       "      <td>Out</td>\n",
       "    </tr>\n",
       "  </tbody>\n",
       "</table>\n",
       "</div>"
      ],
      "text/plain": [
       "     id    text\n",
       "0   100      Hi\n",
       "1   200   Hello\n",
       "2   300      Yo\n",
       "3   400     Sup\n",
       "4   500     Bye\n",
       "5   600   Later\n",
       "6   700    Ciao\n",
       "7   800   Peace\n",
       "8   900  See ya\n",
       "9  1000     Out"
      ]
     },
     "execution_count": 5,
     "metadata": {},
     "output_type": "execute_result"
    }
   ],
   "source": [
    "tweet_data = {\n",
    "    'id': [100, 200, 300, 400, 500, 600, 700, 800, 900, 1000],\n",
    "    'text': ['Hi', 'Hello', 'Yo', 'Sup', 'Bye', 'Later', 'Ciao', 'Peace', 'See ya', 'Out']\n",
    "}\n",
    "\n",
    "tweet_df = pd.DataFrame(tweet_data)\n",
    "tweet_df.head(10)"
   ]
  },
  {
   "cell_type": "code",
   "execution_count": 6,
   "id": "c91c30af-0a59-43f3-9f16-8ee1fb7ccc9d",
   "metadata": {},
   "outputs": [
    {
     "data": {
      "text/html": [
       "<div>\n",
       "<style scoped>\n",
       "    .dataframe tbody tr th:only-of-type {\n",
       "        vertical-align: middle;\n",
       "    }\n",
       "\n",
       "    .dataframe tbody tr th {\n",
       "        vertical-align: top;\n",
       "    }\n",
       "\n",
       "    .dataframe thead th {\n",
       "        text-align: right;\n",
       "    }\n",
       "</style>\n",
       "<table border=\"1\" class=\"dataframe\">\n",
       "  <thead>\n",
       "    <tr style=\"text-align: right;\">\n",
       "      <th></th>\n",
       "      <th>source</th>\n",
       "      <th>target</th>\n",
       "    </tr>\n",
       "  </thead>\n",
       "  <tbody>\n",
       "    <tr>\n",
       "      <th>0</th>\n",
       "      <td>0</td>\n",
       "      <td>1</td>\n",
       "    </tr>\n",
       "    <tr>\n",
       "      <th>1</th>\n",
       "      <td>0</td>\n",
       "      <td>2</td>\n",
       "    </tr>\n",
       "    <tr>\n",
       "      <th>2</th>\n",
       "      <td>1</td>\n",
       "      <td>2</td>\n",
       "    </tr>\n",
       "    <tr>\n",
       "      <th>3</th>\n",
       "      <td>2</td>\n",
       "      <td>3</td>\n",
       "    </tr>\n",
       "    <tr>\n",
       "      <th>4</th>\n",
       "      <td>3</td>\n",
       "      <td>2</td>\n",
       "    </tr>\n",
       "    <tr>\n",
       "      <th>5</th>\n",
       "      <td>4</td>\n",
       "      <td>2</td>\n",
       "    </tr>\n",
       "  </tbody>\n",
       "</table>\n",
       "</div>"
      ],
      "text/plain": [
       "   source  target\n",
       "0       0       1\n",
       "1       0       2\n",
       "2       1       2\n",
       "3       2       3\n",
       "4       3       2\n",
       "5       4       2"
      ]
     },
     "execution_count": 6,
     "metadata": {},
     "output_type": "execute_result"
    }
   ],
   "source": [
    "follows_data = {\n",
    "    'source': [0, 0, 1, 2, 3, 4],\n",
    "    'target': [1, 2, 2, 3, 2, 2]\n",
    "}\n",
    "\n",
    "follows_df = pd.DataFrame(follows_data)\n",
    "follows_df.head(10)"
   ]
  },
  {
   "cell_type": "code",
   "execution_count": 7,
   "id": "4861da1a-278d-4669-bfff-1cd322b9f2fb",
   "metadata": {},
   "outputs": [
    {
     "data": {
      "text/html": [
       "<div>\n",
       "<style scoped>\n",
       "    .dataframe tbody tr th:only-of-type {\n",
       "        vertical-align: middle;\n",
       "    }\n",
       "\n",
       "    .dataframe tbody tr th {\n",
       "        vertical-align: top;\n",
       "    }\n",
       "\n",
       "    .dataframe thead th {\n",
       "        text-align: right;\n",
       "    }\n",
       "</style>\n",
       "<table border=\"1\" class=\"dataframe\">\n",
       "  <thead>\n",
       "    <tr style=\"text-align: right;\">\n",
       "      <th></th>\n",
       "      <th>source</th>\n",
       "      <th>target</th>\n",
       "    </tr>\n",
       "  </thead>\n",
       "  <tbody>\n",
       "    <tr>\n",
       "      <th>0</th>\n",
       "      <td>0</td>\n",
       "      <td>100</td>\n",
       "    </tr>\n",
       "    <tr>\n",
       "      <th>1</th>\n",
       "      <td>0</td>\n",
       "      <td>500</td>\n",
       "    </tr>\n",
       "    <tr>\n",
       "      <th>2</th>\n",
       "      <td>1</td>\n",
       "      <td>200</td>\n",
       "    </tr>\n",
       "    <tr>\n",
       "      <th>3</th>\n",
       "      <td>1</td>\n",
       "      <td>600</td>\n",
       "    </tr>\n",
       "    <tr>\n",
       "      <th>4</th>\n",
       "      <td>2</td>\n",
       "      <td>300</td>\n",
       "    </tr>\n",
       "    <tr>\n",
       "      <th>5</th>\n",
       "      <td>2</td>\n",
       "      <td>700</td>\n",
       "    </tr>\n",
       "    <tr>\n",
       "      <th>6</th>\n",
       "      <td>3</td>\n",
       "      <td>400</td>\n",
       "    </tr>\n",
       "    <tr>\n",
       "      <th>7</th>\n",
       "      <td>3</td>\n",
       "      <td>800</td>\n",
       "    </tr>\n",
       "    <tr>\n",
       "      <th>8</th>\n",
       "      <td>4</td>\n",
       "      <td>900</td>\n",
       "    </tr>\n",
       "    <tr>\n",
       "      <th>9</th>\n",
       "      <td>4</td>\n",
       "      <td>1000</td>\n",
       "    </tr>\n",
       "  </tbody>\n",
       "</table>\n",
       "</div>"
      ],
      "text/plain": [
       "   source  target\n",
       "0       0     100\n",
       "1       0     500\n",
       "2       1     200\n",
       "3       1     600\n",
       "4       2     300\n",
       "5       2     700\n",
       "6       3     400\n",
       "7       3     800\n",
       "8       4     900\n",
       "9       4    1000"
      ]
     },
     "execution_count": 7,
     "metadata": {},
     "output_type": "execute_result"
    }
   ],
   "source": [
    "tweet_data = {\n",
    "    'source': [0, 0, 1, 1, 2, 2, 3, 3, 4, 4],\n",
    "    'target': [100, 500, 200, 600, 300, 700, 400, 800, 900, 1000]\n",
    "}\n",
    "\n",
    "tweets_df = pd.DataFrame(tweet_data)\n",
    "tweets_df.head(10)"
   ]
  },
  {
   "cell_type": "code",
   "execution_count": 8,
   "id": "5352a194-19fb-4aad-9589-dbbb11901688",
   "metadata": {},
   "outputs": [
    {
     "data": {
      "text/plain": [
       "[]"
      ]
     },
     "execution_count": 8,
     "metadata": {},
     "output_type": "execute_result"
    }
   ],
   "source": [
    "conn.query('CREATE CONSTRAINT users IF NOT EXISTS ON (u:User) ASSERT u.id IS UNIQUE')\n",
    "conn.query('CREATE CONSTRAINT tweets IF NOT EXISTS ON (t:Tweet) ASSERT t.id IS UNIQUE')"
   ]
  },
  {
   "cell_type": "code",
   "execution_count": 9,
   "id": "08e7d5d8-b59d-4ab9-9fa2-a20b2d1c778b",
   "metadata": {},
   "outputs": [],
   "source": [
    "def insert_data(query, rows, batch_size = 10000):\n",
    "    # Function to handle the updating the Neo4j database in batch mode.\n",
    "    \n",
    "    total = 0\n",
    "    batch = 0\n",
    "    start = time.time()\n",
    "    result = None\n",
    "    \n",
    "    while batch * batch_size < len(rows):\n",
    "\n",
    "        res = conn.query(query, \n",
    "                         parameters = {'rows': rows[batch*batch_size:(batch+1)*batch_size].to_dict('records')})\n",
    "        total += res[0]['total']\n",
    "        batch += 1\n",
    "        result = {\"total\":total, \n",
    "                  \"batches\":batch, \n",
    "                  \"time\":time.time()-start}\n",
    "        \n",
    "    return result"
   ]
  },
  {
   "cell_type": "code",
   "execution_count": 10,
   "id": "d60f364e-9267-44e5-bb18-f13fdff86ab6",
   "metadata": {},
   "outputs": [
    {
     "data": {
      "text/plain": [
       "{'total': 5, 'batches': 1, 'time': 0.5177779197692871}"
      ]
     },
     "execution_count": 10,
     "metadata": {},
     "output_type": "execute_result"
    }
   ],
   "source": [
    "def add_users(rows):\n",
    "    \n",
    "    query = \"\"\"UNWIND $rows AS row\n",
    "               MERGE (:User {id: row.id, name: row.name})\n",
    "               RETURN COUNT(*) AS total\n",
    "            \"\"\"\n",
    "    \n",
    "    return insert_data(query, rows)\n",
    "\n",
    "\n",
    "add_users(user_df)"
   ]
  },
  {
   "cell_type": "code",
   "execution_count": 11,
   "id": "3c492218-2b4f-4a6b-996b-798c55c531ae",
   "metadata": {},
   "outputs": [
    {
     "data": {
      "text/plain": [
       "{'total': 10, 'batches': 1, 'time': 0.326185941696167}"
      ]
     },
     "execution_count": 11,
     "metadata": {},
     "output_type": "execute_result"
    }
   ],
   "source": [
    "def add_tweets(rows):\n",
    "    \n",
    "    query = \"\"\"UNWIND $rows AS row\n",
    "               MERGE (:Tweet {id: row.id, text: row.text})\n",
    "               RETURN COUNT(*) AS total\n",
    "            \"\"\"\n",
    "    \n",
    "    return insert_data(query, rows)\n",
    "\n",
    "\n",
    "add_tweets(tweet_df)"
   ]
  },
  {
   "cell_type": "code",
   "execution_count": 12,
   "id": "4b42c06f-2d1a-441e-a324-be912e1e4ab2",
   "metadata": {},
   "outputs": [
    {
     "data": {
      "text/plain": [
       "{'total': 6, 'batches': 1, 'time': 0.7009670734405518}"
      ]
     },
     "execution_count": 12,
     "metadata": {},
     "output_type": "execute_result"
    }
   ],
   "source": [
    "def add_follows_rel(rows):\n",
    "    \n",
    "    query = \"\"\"UNWIND $rows AS row\n",
    "               MATCH (source:User {id: row.source})\n",
    "               MATCH (target:User {id: row.target})\n",
    "               MERGE (source)-[r:FOLLOWS]->(target)\n",
    "               RETURN COUNT(r) AS total\n",
    "            \"\"\"\n",
    "    \n",
    "    return insert_data(query, rows)\n",
    "\n",
    "\n",
    "add_follows_rel(follows_df)"
   ]
  },
  {
   "cell_type": "code",
   "execution_count": 13,
   "id": "98e9939f-aa1b-430b-b0a3-60a4277e8f9e",
   "metadata": {},
   "outputs": [
    {
     "data": {
      "text/plain": [
       "{'total': 10, 'batches': 1, 'time': 0.5380897521972656}"
      ]
     },
     "execution_count": 13,
     "metadata": {},
     "output_type": "execute_result"
    }
   ],
   "source": [
    "def add_writes_rel(rows):\n",
    "    \n",
    "    query = \"\"\"UNWIND $rows AS row\n",
    "               MATCH (source:User {id: row.source})\n",
    "               MATCH (target:Tweet {id: row.target})\n",
    "               MERGE (source)-[r:WRITES]->(target)\n",
    "               RETURN COUNT(r) AS total\n",
    "            \"\"\"\n",
    "    \n",
    "    return insert_data(query, rows)\n",
    "\n",
    "\n",
    "add_writes_rel(tweets_df)"
   ]
  },
  {
   "cell_type": "code",
   "execution_count": null,
   "id": "1a7ce400-7ccd-4434-8c68-b7e03158607a",
   "metadata": {},
   "outputs": [],
   "source": []
  }
 ],
 "metadata": {
  "kernelspec": {
   "display_name": "Python 3 (ipykernel)",
   "language": "python",
   "name": "python3"
  },
  "language_info": {
   "codemirror_mode": {
    "name": "ipython",
    "version": 3
   },
   "file_extension": ".py",
   "mimetype": "text/x-python",
   "name": "python",
   "nbconvert_exporter": "python",
   "pygments_lexer": "ipython3",
   "version": "3.8.10"
  }
 },
 "nbformat": 4,
 "nbformat_minor": 5
}
